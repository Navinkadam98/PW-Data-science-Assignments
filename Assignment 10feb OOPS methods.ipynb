{
 "cells": [
  {
   "cell_type": "markdown",
   "id": "522f9c5b-6558-4e66-84a1-01390601b7d2",
   "metadata": {},
   "source": [
    "## Q1. Which function is used to open a file? What are the different modes of opening a file? Explain each mode of file opening"
   ]
  },
  {
   "cell_type": "markdown",
   "id": "4f16c141-9323-4946-aeba-57190b69cbad",
   "metadata": {},
   "source": [
    "## Ans"
   ]
  },
  {
   "cell_type": "markdown",
   "id": "f29a9282-e4f4-47bd-8860-a6ff4b444ce4",
   "metadata": {},
   "source": [
    "* open() function is used to open a file\n",
    "### Diffrent Mode\n",
    "'r' open for reading (default)\n",
    "\n",
    "'w' open for writing, truncating the file first\n",
    "\n",
    "'x' create a new file and open it for writing\n",
    "\n",
    "'a' open for writing, appending to the end of the file if it exists\n",
    "\n",
    "'b' binary mode\n",
    "\n",
    "'t' text mode (default)\n",
    "\n",
    "'+' open a disk file for updating (reading and writing)\n",
    "\n",
    "'U' universal newline mode (deprecated)"
   ]
  },
  {
   "cell_type": "markdown",
   "id": "6c20174b-cfb6-4683-a7fb-193a7dac6bc8",
   "metadata": {},
   "source": [
    "## Q2. Why close() function is used? Why is it important to close a file?"
   ]
  },
  {
   "cell_type": "markdown",
   "id": "8e67279d-5d54-488b-aecd-4473197f1b07",
   "metadata": {},
   "source": [
    "## Ans"
   ]
  },
  {
   "cell_type": "markdown",
   "id": "446679cd-8c68-479c-9f0e-6631645c9691",
   "metadata": {},
   "source": [
    "* close() is used to tell python compiler that the file is completed with writing now you can save it and show\n",
    "\n",
    "* close() function is important as if we don't close after writing into the file it will not be saved and can't be displayed"
   ]
  },
  {
   "cell_type": "markdown",
   "id": "cea882dc-12f5-4118-bb16-8b0dda492f3e",
   "metadata": {},
   "source": [
    "## Q3. Write a python program to create a text file. Write ‘I want to become a Data Scientist’ in that file. Then close the file. Open this file and read the content of the file."
   ]
  },
  {
   "cell_type": "markdown",
   "id": "a300adef-a9c1-403e-bfa0-e1f75bc42bdb",
   "metadata": {},
   "source": [
    "# Ans"
   ]
  },
  {
   "cell_type": "code",
   "execution_count": 16,
   "id": "b341c4b9-d0ca-431a-bfde-70459b609373",
   "metadata": {},
   "outputs": [],
   "source": [
    "# creating the file \n",
    "\n",
    "f1 = open(\"test.txt\",\"w\")"
   ]
  },
  {
   "cell_type": "code",
   "execution_count": 17,
   "id": "4e1c7bed-27e0-4605-97fd-3ea640b524d6",
   "metadata": {},
   "outputs": [
    {
     "data": {
      "text/plain": [
       "'i am data scientist'"
      ]
     },
     "execution_count": 17,
     "metadata": {},
     "output_type": "execute_result"
    }
   ],
   "source": [
    "#writing into file\n",
    "\n",
    "f1.write(\"i am data scientist\")\n",
    "\n",
    "#closing the file\n",
    "\n",
    "f1.close()\n",
    "\n",
    "#reading the file\n",
    "\n",
    "f2 =  open(\"test.txt\",\"r\")\n",
    "f2.read()"
   ]
  },
  {
   "cell_type": "code",
   "execution_count": 18,
   "id": "db4d316c-992e-494d-829f-ae59c627f216",
   "metadata": {},
   "outputs": [],
   "source": [
    "f2.close()"
   ]
  },
  {
   "cell_type": "markdown",
   "id": "045df6ef-c5d7-406f-b591-a4130c3c0b29",
   "metadata": {},
   "source": [
    "## Q4. Explain the following with python code: read(), readline() and readlines()."
   ]
  },
  {
   "cell_type": "code",
   "execution_count": 19,
   "id": "0fedcecc-35bb-4283-89e8-99e38463d0fa",
   "metadata": {},
   "outputs": [
    {
     "data": {
      "text/plain": [
       "'i am data scientist'"
      ]
     },
     "execution_count": 19,
     "metadata": {},
     "output_type": "execute_result"
    }
   ],
   "source": [
    "# read() function wil simpliy retrun the entire text file \n",
    "f3=open(\"test.txt\", \"r\")\n",
    "f3.read()"
   ]
  },
  {
   "cell_type": "code",
   "execution_count": 21,
   "id": "b1bace12-71dd-4c7a-8e5f-6565bc42ca94",
   "metadata": {},
   "outputs": [
    {
     "data": {
      "text/plain": [
       "'data scientist'"
      ]
     },
     "execution_count": 21,
     "metadata": {},
     "output_type": "execute_result"
    }
   ],
   "source": [
    "# readline() function allows which index we need to see the data suppose we need to see the data from 10th index\n",
    "\n",
    "f3.seek(5)\n",
    "f3.readline() # it will return in string format"
   ]
  },
  {
   "cell_type": "code",
   "execution_count": 28,
   "id": "10679f84-e011-4824-a87c-eceea37bd9c3",
   "metadata": {},
   "outputs": [
    {
     "name": "stdout",
     "output_type": "stream",
     "text": [
      "['I like to do coding']\n"
     ]
    }
   ],
   "source": [
    "# readlines() function will can take the data from specific index and return in a string of lsit form \n",
    "\n",
    "f4=open(\"test.txt\", mode=\"w\")\n",
    "f4.write(\" I like to do coding\")\n",
    "f4.close()\n",
    "with open(\"test.txt\") as f:\n",
    "    f.seek(1)\n",
    "    print(f.readlines())"
   ]
  },
  {
   "cell_type": "markdown",
   "id": "2c14afb1-4171-4045-a990-df736a136c95",
   "metadata": {},
   "source": [
    "## Q5. Explain why with statement is used with open(). What is the advantage of using with statement and open() together?\n",
    "### Ans"
   ]
  },
  {
   "cell_type": "markdown",
   "id": "7ff6e95a-bf93-4382-bdf4-6a6f3485fc2c",
   "metadata": {},
   "source": [
    "* Benefits of calling open () using “with statement” : Fewer chances of bug due to coding error With “with” statement we don’t have to close the opened file manually. It takes care of that when the compiler goes out of the block and automatically closes file."
   ]
  },
  {
   "cell_type": "code",
   "execution_count": 30,
   "id": "a4d2dad7-088a-464d-9ef1-1db4cc08c540",
   "metadata": {},
   "outputs": [
    {
     "name": "stdout",
     "output_type": "stream",
     "text": [
      " I like to do coding\n"
     ]
    }
   ],
   "source": [
    "# example\n",
    "\n",
    "with open(\"test.txt\",\"r\")as f:\n",
    "    print(f.read())"
   ]
  },
  {
   "cell_type": "markdown",
   "id": "a67e5ec6-a7c3-4044-8885-aa34340f202a",
   "metadata": {},
   "source": [
    "## Q6. Explain the write() and writelines() functions. Give a suitable example."
   ]
  },
  {
   "cell_type": "markdown",
   "id": "6225a811-3008-4434-b2c8-2bb75fc0b421",
   "metadata": {},
   "source": [
    "### Ans"
   ]
  },
  {
   "cell_type": "markdown",
   "id": "46e07495-1d5e-45b7-8216-df3452a49989",
   "metadata": {},
   "source": [
    "* Write() method displays the output but do not provide a new line character.\n",
    "* WriteLine() method displays the output and also provides a new line character it the end of the string, This would set a new line for the next output."
   ]
  },
  {
   "cell_type": "code",
   "execution_count": 32,
   "id": "d56cacc5-0d39-4a84-9523-046813ff3bfd",
   "metadata": {},
   "outputs": [],
   "source": [
    "f5 = open(\"text2.txt\",\"w\")\n",
    "f5.write(\"Explain the write() and writelines() functions. Give a suitable exampleExplain the write() and writelines() functions. Give a suitable example\")\n",
    "f5.close()"
   ]
  },
  {
   "cell_type": "code",
   "execution_count": null,
   "id": "00fb4240-bfc7-499f-b891-e27be9d28f2a",
   "metadata": {},
   "outputs": [
    {
     "name": "stdin",
     "output_type": "stream",
     "text": [
      "write name: I am Navinkumar\n"
     ]
    }
   ],
   "source": [
    "# example write\n",
    "\n",
    "file5 = open(\"text2.txt\",\"w\")\n",
    "lst = []\n",
    "for i in range(2):\n",
    "    name = input(\"write name:\")\n",
    "    lst.append(name)\n",
    "    \n",
    "lst =\".\".join(lst)\n",
    "file5.writelines(lst)\n",
    "file5.close()\n",
    "print(\"Data written into the file\")\n"
   ]
  },
  {
   "cell_type": "code",
   "execution_count": null,
   "id": "48785b74-4d1a-40b8-a05f-db6fff4be611",
   "metadata": {},
   "outputs": [],
   "source": []
  }
 ],
 "metadata": {
  "kernelspec": {
   "display_name": "Python 3 (ipykernel)",
   "language": "python",
   "name": "python3"
  },
  "language_info": {
   "codemirror_mode": {
    "name": "ipython",
    "version": 3
   },
   "file_extension": ".py",
   "mimetype": "text/x-python",
   "name": "python",
   "nbconvert_exporter": "python",
   "pygments_lexer": "ipython3",
   "version": "3.10.8"
  }
 },
 "nbformat": 4,
 "nbformat_minor": 5
}
