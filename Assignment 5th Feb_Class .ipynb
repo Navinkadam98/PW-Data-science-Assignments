{
 "cells": [
  {
   "cell_type": "markdown",
   "id": "7517f1d1-e42e-4e8f-a81c-397a8d1f6a76",
   "metadata": {},
   "source": [
    "## Q1. Explain Class and Object with respect to Object-Oriented Programming. Give a suitable example."
   ]
  },
  {
   "cell_type": "markdown",
   "id": "9ff2ce9a-7d5a-4e49-bf64-0ec0bc62e3b3",
   "metadata": {},
   "source": [
    "## Ans"
   ]
  },
  {
   "cell_type": "markdown",
   "id": "ff266b3c-ce37-4f9b-a7ac-3591e9eb3ef7",
   "metadata": {},
   "source": [
    "Class:"
   ]
  },
  {
   "cell_type": "markdown",
   "id": "8df7eba6-2bf2-45e7-9e5b-1a08ae5ac18e",
   "metadata": {},
   "source": [
    "In python class is a inbuild key word that represents a blue print or skeleton of real world entity\n",
    "\n",
    "* human has properties like color, height\n",
    "* human has behaviour like eating, sleeping"
   ]
  },
  {
   "cell_type": "markdown",
   "id": "69df428b-4539-4d79-be01-3e53d41aa3ca",
   "metadata": {},
   "source": [
    "## human = properties+ behaviour\n",
    "* class property is called Attribute\n",
    "* class Behaviour is called Method\n",
    "## class = Attribute + Method"
   ]
  },
  {
   "cell_type": "markdown",
   "id": "61593579-e890-4f24-99d3-996603678a24",
   "metadata": {},
   "source": [
    "## Objects:"
   ]
  },
  {
   "cell_type": "markdown",
   "id": "6ac38c7f-ef64-4371-8ff1-ba2b89f81443",
   "metadata": {},
   "source": [
    "Any specific variable or instance which is having properties of a specfic class is called object for the specific class.\n",
    "\n",
    "### example:\n",
    "* Human is Human in real life.\n",
    "* Radha,Krishna, Sita, Ram, Mahadev are also human but these human are having name."
   ]
  },
  {
   "cell_type": "markdown",
   "id": "f97228cf-5f96-40ee-ada2-fc2d741ccfed",
   "metadata": {},
   "source": [
    "### In simple Word\n",
    "Human: it is a class,Radha, Sita, Ram, Shyam are objects of the class Human"
   ]
  },
  {
   "cell_type": "markdown",
   "id": "7a8c6201-dc09-431d-b7e8-7d4a5aec4c9a",
   "metadata": {},
   "source": [
    "### instantitaion\n",
    "Creating an object from a class called instantitaion"
   ]
  },
  {
   "cell_type": "markdown",
   "id": "7f3d803f-f4da-4f96-b109-8b5863de5bcf",
   "metadata": {},
   "source": [
    "### Example Of Simple Class"
   ]
  },
  {
   "cell_type": "code",
   "execution_count": 3,
   "id": "141d1fbe-c852-4412-8750-ef056f2755fc",
   "metadata": {},
   "outputs": [],
   "source": [
    "class Car:\n",
    "    def __init__(self,make,model,year):\n",
    "        self.make= make\n",
    "        self.model = model\n",
    "        self.year = year\n",
    "        \n",
    "    def start_engine(self):\n",
    "        print(f\"The {self.make} {self.model}'s engine has started.\")"
   ]
  },
  {
   "cell_type": "code",
   "execution_count": 6,
   "id": "297b1af4-30fb-47bb-98e3-b7d55acafdf7",
   "metadata": {},
   "outputs": [],
   "source": [
    "my_car =Car(\"TATA\",\"Harrier\",2023)"
   ]
  },
  {
   "cell_type": "code",
   "execution_count": 7,
   "id": "e395d449-9ea9-47b2-991e-3ef1f2932a11",
   "metadata": {},
   "outputs": [
    {
     "data": {
      "text/plain": [
       "'TATA'"
      ]
     },
     "execution_count": 7,
     "metadata": {},
     "output_type": "execute_result"
    }
   ],
   "source": [
    "my_car.make"
   ]
  },
  {
   "cell_type": "code",
   "execution_count": 8,
   "id": "5600049b-153b-4a42-a1ae-f09f36963d20",
   "metadata": {},
   "outputs": [
    {
     "data": {
      "text/plain": [
       "'Harrier'"
      ]
     },
     "execution_count": 8,
     "metadata": {},
     "output_type": "execute_result"
    }
   ],
   "source": [
    "my_car.model"
   ]
  },
  {
   "cell_type": "code",
   "execution_count": 10,
   "id": "08b8ac75-7a39-479e-ac01-280bcb95d4ad",
   "metadata": {},
   "outputs": [
    {
     "name": "stdout",
     "output_type": "stream",
     "text": [
      "The TATA Harrier's engine has started.\n"
     ]
    }
   ],
   "source": [
    "my_car.start_engine()"
   ]
  },
  {
   "cell_type": "markdown",
   "id": "5490b7fa-0bd2-4742-9729-b0e277be16a1",
   "metadata": {},
   "source": [
    "## Q2. Name the four pillars of OOPs."
   ]
  },
  {
   "cell_type": "markdown",
   "id": "e2b3f3b6-6577-47bd-b64e-b96e4e2cb2f3",
   "metadata": {},
   "source": [
    "### Ans There are 4 main pillars of OOPs Those are"
   ]
  },
  {
   "cell_type": "markdown",
   "id": "87b92c1b-3f35-4a21-b778-48e1cc701e9f",
   "metadata": {},
   "source": [
    "* Abstraction\n",
    "\n",
    "* Encapsulation\n",
    "\n",
    "* Inheritance\n",
    "\n",
    "* Polymorphism"
   ]
  },
  {
   "cell_type": "markdown",
   "id": "34dc7bf0-aaac-4427-9b54-9731b3c44af6",
   "metadata": {},
   "source": [
    "## Q3. Explain why the init() function is used. Give a suitable example."
   ]
  },
  {
   "cell_type": "markdown",
   "id": "553aa312-ca62-4320-a3fd-c2a83f7d683a",
   "metadata": {},
   "source": [
    "## Ans"
   ]
  },
  {
   "cell_type": "markdown",
   "id": "29759160-ed7d-4e60-9156-f55c256c3102",
   "metadata": {},
   "source": [
    "init() function also called constructors. This function is always executed when the class is being initiated.\n",
    "\n",
    "we can use the init() function to assign values to object properties"
   ]
  },
  {
   "cell_type": "code",
   "execution_count": 28,
   "id": "b61816b4-209f-455f-a9ef-986237d12f38",
   "metadata": {},
   "outputs": [],
   "source": [
    "# example with constructor \n",
    "\n",
    "class person:\n",
    "    \n",
    "    def __init__(self,name,age,mobile_number):\n",
    "        self.name = name\n",
    "        self.age = age\n",
    "        self.mobile_number = mobile_number\n",
    "        \n",
    "    def introduce(self):\n",
    "        print(f\"My name is {self.name} ,this is my mobile number {self.mobile_number} and i am {self.age} years old\")"
   ]
  },
  {
   "cell_type": "code",
   "execution_count": 29,
   "id": "c2a97e59-adc6-4710-b8be-2b6f6802881d",
   "metadata": {},
   "outputs": [],
   "source": [
    "person =person(\"Navin\",25,\"9978098789\")"
   ]
  },
  {
   "cell_type": "code",
   "execution_count": 30,
   "id": "11b2308c-d4c7-4339-8fd4-ca754a7d630f",
   "metadata": {},
   "outputs": [
    {
     "data": {
      "text/plain": [
       "'Navin'"
      ]
     },
     "execution_count": 30,
     "metadata": {},
     "output_type": "execute_result"
    }
   ],
   "source": [
    "person.name"
   ]
  },
  {
   "cell_type": "code",
   "execution_count": 31,
   "id": "b80af047-b197-4cb0-a135-e3c07c9c0736",
   "metadata": {},
   "outputs": [
    {
     "data": {
      "text/plain": [
       "'9978098789'"
      ]
     },
     "execution_count": 31,
     "metadata": {},
     "output_type": "execute_result"
    }
   ],
   "source": [
    "person.mobile_number"
   ]
  },
  {
   "cell_type": "code",
   "execution_count": 32,
   "id": "1ccbf671-9944-49b3-8422-162fff0a9dff",
   "metadata": {},
   "outputs": [
    {
     "data": {
      "text/plain": [
       "25"
      ]
     },
     "execution_count": 32,
     "metadata": {},
     "output_type": "execute_result"
    }
   ],
   "source": [
    "person.age"
   ]
  },
  {
   "cell_type": "code",
   "execution_count": 33,
   "id": "e5e19c78-58c7-42ee-b97d-c3c7bc914f31",
   "metadata": {},
   "outputs": [
    {
     "name": "stdout",
     "output_type": "stream",
     "text": [
      "My name is Navin ,this is my mobile number 9978098789 and i am 25 years old\n"
     ]
    }
   ],
   "source": [
    "person.introduce()"
   ]
  },
  {
   "cell_type": "markdown",
   "id": "9caa9961-e52c-4178-b23f-3cef508ff137",
   "metadata": {},
   "source": [
    "### Q4. Why self is used in OOPs?"
   ]
  },
  {
   "cell_type": "markdown",
   "id": "632a0e62-1109-4ad3-b78c-0064e7a88c4a",
   "metadata": {},
   "source": [
    "### Ans"
   ]
  },
  {
   "cell_type": "markdown",
   "id": "432da577-aad2-4228-94b7-9389b40a3e33",
   "metadata": {},
   "source": [
    "### self\n",
    "self is an argument which is important! and it is mentioned as first argument, while defining somthing within class\n",
    "The method will see self as it's won argument and pass the same"
   ]
  },
  {
   "cell_type": "markdown",
   "id": "a2f55ef4-0ba3-42b5-a80e-34de4afae931",
   "metadata": {},
   "source": [
    "### Example With Self"
   ]
  },
  {
   "cell_type": "code",
   "execution_count": 106,
   "id": "bb642861-637d-4d05-97e3-61ddc687e4aa",
   "metadata": {},
   "outputs": [],
   "source": [
    "class BankAccount:\n",
    "    def __init__(self,initial_balance = 0):\n",
    "        self.balance = initial_balance\n",
    "    \n",
    "    def deposit(self,amount): \n",
    "        \n",
    "        self.balance += amount\n",
    "        \n",
    "        print(f\"Deposite successful.Your new balance is {self.balance}. \")\n",
    "        \n",
    "\n",
    "    def withdraw (self,amount):\n",
    "        \n",
    "        if amount > self.balance:\n",
    "            print(\"Sorry,insufficient funds.\")\n",
    "        \n",
    "        else:\n",
    "            self.balance -= amount\n",
    "            \n",
    "            print(f\"withdarw successful. Your new balnce is {self.balance}.\")\n",
    "        \n",
    "        def check_balnce(self):\n",
    "            print(f\" Your current balance is {self.balnace} .\")\n",
    "        \n",
    "        \n",
    "        "
   ]
  },
  {
   "cell_type": "code",
   "execution_count": 107,
   "id": "a8591ff3-f61a-48c3-9768-e39e97a97438",
   "metadata": {},
   "outputs": [],
   "source": [
    "account = BankAccount(10000)"
   ]
  },
  {
   "cell_type": "code",
   "execution_count": 108,
   "id": "80b0e1db-31b2-407f-bed9-81fda282e7eb",
   "metadata": {},
   "outputs": [
    {
     "data": {
      "text/plain": [
       "10000"
      ]
     },
     "execution_count": 108,
     "metadata": {},
     "output_type": "execute_result"
    }
   ],
   "source": [
    "account.balance"
   ]
  },
  {
   "cell_type": "code",
   "execution_count": 109,
   "id": "8323ff9d-fafd-480b-9889-038a96367ed5",
   "metadata": {},
   "outputs": [
    {
     "name": "stdout",
     "output_type": "stream",
     "text": [
      "Deposite successful.Your new balance is 12000. \n"
     ]
    }
   ],
   "source": [
    "account.deposit(2000)"
   ]
  },
  {
   "cell_type": "code",
   "execution_count": 110,
   "id": "d2cb8e9d-bba8-4d77-9e2e-97b21bb9c0dc",
   "metadata": {},
   "outputs": [
    {
     "name": "stdout",
     "output_type": "stream",
     "text": [
      "withdarw successful. Your new balnce is 8000.\n"
     ]
    }
   ],
   "source": [
    "account.withdraw(4000)"
   ]
  },
  {
   "cell_type": "code",
   "execution_count": 111,
   "id": "24f7db98-b7ed-40dc-9e5a-38632aada2de",
   "metadata": {},
   "outputs": [
    {
     "name": "stdout",
     "output_type": "stream",
     "text": [
      "Sorry,insufficient funds.\n"
     ]
    }
   ],
   "source": [
    "account.withdraw(20000)"
   ]
  },
  {
   "cell_type": "markdown",
   "id": "e10f7fd3-4bf3-4626-b1e9-3acbdc9bbfd9",
   "metadata": {},
   "source": []
  },
  {
   "cell_type": "markdown",
   "id": "26be94dd-6001-4ff6-8a56-0e43f42d891a",
   "metadata": {},
   "source": [
    "## Q5. What is inheritance? Give an example for each type of inheritance."
   ]
  },
  {
   "cell_type": "markdown",
   "id": "88594a84-a307-4c4b-b188-a5dd0a2beaa3",
   "metadata": {},
   "source": [
    "Ans:\n",
    "\n",
    "Inheritance is defined as the mechanism of inheriting the properties of the base class to the child class.\n",
    "It also called as sub class.\n",
    "\n",
    "Apart from the base class it may have other properties.\n",
    "\n",
    "We may change the properties of a sub class from base class without changing the super class's property.\n",
    "\n",
    "If super class property changes that will lead to change the child class property too."
   ]
  },
  {
   "cell_type": "markdown",
   "id": "631170a4-4dde-4e08-b96e-fdaf8675808e",
   "metadata": {},
   "source": [
    "## Types of Inheritance class"
   ]
  },
  {
   "cell_type": "markdown",
   "id": "bc4ffba0-86c5-456e-9090-7dd2c55aafba",
   "metadata": {},
   "source": [
    "### 1.Single Inheritance/ single level Inheritance"
   ]
  },
  {
   "cell_type": "code",
   "execution_count": 112,
   "id": "120eabc4-1f52-4eb4-9729-eab989ff0768",
   "metadata": {},
   "outputs": [],
   "source": [
    "class Parent:\n",
    "    def test_class1(self):\n",
    "        return (\"I am your Parent\")\n",
    "\n",
    "class Child(Parent):\n",
    "    def test_class2(self):\n",
    "        return (\"I am your Child\")\n",
    "    "
   ]
  },
  {
   "cell_type": "code",
   "execution_count": 113,
   "id": "e4f5e13d-2458-4954-a69d-057e987413ab",
   "metadata": {},
   "outputs": [],
   "source": [
    "child_obj =Child()"
   ]
  },
  {
   "cell_type": "code",
   "execution_count": 114,
   "id": "9847e298-9447-4805-8c2a-40d23b94f9c1",
   "metadata": {},
   "outputs": [
    {
     "name": "stdout",
     "output_type": "stream",
     "text": [
      "I am your Parent\n"
     ]
    }
   ],
   "source": [
    "print(child_obj.test_class1())"
   ]
  },
  {
   "cell_type": "code",
   "execution_count": 116,
   "id": "0914f682-5d4c-4b8d-be48-9576a8b5ca7d",
   "metadata": {},
   "outputs": [
    {
     "name": "stdout",
     "output_type": "stream",
     "text": [
      "I am your Child\n"
     ]
    }
   ],
   "source": [
    "print(child_obj.test_class2())"
   ]
  },
  {
   "cell_type": "markdown",
   "id": "8f2ca653-9a9f-4731-888d-1168f91c92df",
   "metadata": {},
   "source": [
    "### 2. Multi level Inheritance"
   ]
  },
  {
   "cell_type": "code",
   "execution_count": 13,
   "id": "afe26c3d-02df-480d-8804-4eecee4fcf24",
   "metadata": {},
   "outputs": [],
   "source": [
    "class father:\n",
    "    def father_talent (self):\n",
    "        return \"They can Calcute fast any sum \"\n",
    "    \n",
    "class mother:\n",
    "    def mother_talent(self):\n",
    "        return \"Cook good food\"\n",
    "        \n",
    "class Son(father,mother):    \n",
    "    def Son_talent(self):\n",
    "        return \"He can Code well\"\n",
    "\n",
    "    "
   ]
  },
  {
   "cell_type": "code",
   "execution_count": 14,
   "id": "2ee0c405-35a2-4eb6-9efb-b82cf466f86e",
   "metadata": {},
   "outputs": [],
   "source": [
    "son1 = Son()"
   ]
  },
  {
   "cell_type": "code",
   "execution_count": 15,
   "id": "157c8afb-6a3b-4337-af91-254a3e156c07",
   "metadata": {},
   "outputs": [
    {
     "data": {
      "text/plain": [
       "'They can Calcute fast any sum '"
      ]
     },
     "execution_count": 15,
     "metadata": {},
     "output_type": "execute_result"
    }
   ],
   "source": [
    "son1.father_talent()"
   ]
  },
  {
   "cell_type": "code",
   "execution_count": 16,
   "id": "fb2f218e-57cb-4ea0-abcf-7ee4d861df9f",
   "metadata": {},
   "outputs": [
    {
     "data": {
      "text/plain": [
       "'Cook good food'"
      ]
     },
     "execution_count": 16,
     "metadata": {},
     "output_type": "execute_result"
    }
   ],
   "source": [
    "son1.mother_talent()"
   ]
  },
  {
   "cell_type": "markdown",
   "id": "5e40263d-c66e-4922-b0ce-9a4deb95d516",
   "metadata": {},
   "source": [
    "## 3. Hybrid Inheritance"
   ]
  },
  {
   "cell_type": "code",
   "execution_count": null,
   "id": "45641d65-dd0f-40d6-9b58-22b725f23754",
   "metadata": {},
   "outputs": [],
   "source": [
    "class Mother:\n",
    "    def mother_color(self):\n",
    "        return \"the body color is white \"\n",
    "class Father :\n",
    "    def fathers_height(self):\n",
    "        return \"the height is 5.5 feet\"\n",
    "class Son(Mother,Father) :\n",
    "    ret\n",
    "    "
   ]
  }
 ],
 "metadata": {
  "kernelspec": {
   "display_name": "Python 3 (ipykernel)",
   "language": "python",
   "name": "python3"
  },
  "language_info": {
   "codemirror_mode": {
    "name": "ipython",
    "version": 3
   },
   "file_extension": ".py",
   "mimetype": "text/x-python",
   "name": "python",
   "nbconvert_exporter": "python",
   "pygments_lexer": "ipython3",
   "version": "3.10.8"
  }
 },
 "nbformat": 4,
 "nbformat_minor": 5
}
