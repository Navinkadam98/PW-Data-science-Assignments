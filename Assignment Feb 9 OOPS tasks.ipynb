{
 "cells": [
  {
   "cell_type": "markdown",
   "id": "a9c9263d-21f8-42d0-aaf0-addf5cbd78ca",
   "metadata": {},
   "source": [
    "### Q1. Create a vehicle class with an init method having instance variables as name_of_vehicle, max_speed and average_of_vehicle."
   ]
  },
  {
   "cell_type": "code",
   "execution_count": 1,
   "id": "f460e5f7-93fd-4584-91fa-5b1066521064",
   "metadata": {},
   "outputs": [],
   "source": [
    "class vehicle:\n",
    "    def __init__(self,name,max_speed,average_speed):\n",
    "        self.name = name\n",
    "        self.max_speed = max_speed\n",
    "        self.average_speed = average_speed\n",
    "        "
   ]
  },
  {
   "cell_type": "markdown",
   "id": "9fa3e72a-a360-43a8-9036-5212af79c10f",
   "metadata": {},
   "source": [
    "### Q2. Create a child class car from the vehicle class created in Que 1, which will inherit the vehicle class.\n",
    "\n",
    "### Create a method named seating_capacity which takes capacity as an argument and returns the name of the vehicle and its seating capacity."
   ]
  },
  {
   "cell_type": "code",
   "execution_count": 3,
   "id": "a9a6e307-1e88-4372-a871-e49258e88ed4",
   "metadata": {},
   "outputs": [],
   "source": [
    "class vehicle:\n",
    "    def __init__(self,name,max_speed,average_speed):\n",
    "        self.name = name\n",
    "        self.max_speed = max_speed\n",
    "        self.average_speed = average_speed\n",
    "\n",
    "class car(vehicle):\n",
    "    def seating_capacity(self,capacity):\n",
    "        self.seating_capacity =capacity\n",
    "        return self.name,self.seating_capacity"
   ]
  },
  {
   "cell_type": "code",
   "execution_count": 5,
   "id": "6070301e-116c-475b-a53b-1b7f47525fc2",
   "metadata": {},
   "outputs": [
    {
     "data": {
      "text/plain": [
       "('Audi', 5)"
      ]
     },
     "execution_count": 5,
     "metadata": {},
     "output_type": "execute_result"
    }
   ],
   "source": [
    "\n",
    "c1 = car(\"Audi\", 320, 12)\n",
    "c1.seating_capacity(5)"
   ]
  },
  {
   "cell_type": "markdown",
   "id": "adea1055-c047-46f2-aa93-41e187238794",
   "metadata": {},
   "source": [
    "### Q3. What is multiple inheritance? Write a python code to demonstrate multiple inheritance.\n",
    "* Multiple inheritance - When child class inherits from more than one parent class."
   ]
  },
  {
   "cell_type": "code",
   "execution_count": 7,
   "id": "5f8e60b8-abcb-4f19-a2fc-0d9f1ee2d6b7",
   "metadata": {},
   "outputs": [
    {
     "name": "stdout",
     "output_type": "stream",
     "text": [
      "cook food\n",
      "he teaching maths\n"
     ]
    }
   ],
   "source": [
    "class mother:\n",
    "    def food(self):\n",
    "        print (\"cook food\")\n",
    "        \n",
    "class father:\n",
    "    def teaching(self):\n",
    "        print(\"he teaching maths\")\n",
    "        \n",
    "        \n",
    "class son(mother,father):\n",
    "    def __init__(self,name):\n",
    "        self.name =name\n",
    "\n",
    "s1 = son(\"hi\")\n",
    "s1.food()\n",
    "s1.teaching()\n",
    "\n",
    "        "
   ]
  },
  {
   "cell_type": "markdown",
   "id": "5cbe9559-2f4d-4d47-b5b6-1cb1c514a43c",
   "metadata": {},
   "source": [
    "### Q4. What are getter and setter in python? Create a class and create a getter and a setter method in this class.\n",
    "* getter and setter are decorators in python that provide access and modification to private variables to external user and ensures encapsulation."
   ]
  },
  {
   "cell_type": "code",
   "execution_count": 10,
   "id": "36a4f1a9-1f28-436e-b60e-25d7bc9107b0",
   "metadata": {},
   "outputs": [
    {
     "data": {
      "text/plain": [
       "625"
      ]
     },
     "execution_count": 10,
     "metadata": {},
     "output_type": "execute_result"
    }
   ],
   "source": [
    "class square:\n",
    "    def __init__(self,length):\n",
    "        self.length = length\n",
    "    \n",
    "    @property #getter method\n",
    "    \n",
    "    def get_area(self):\n",
    "        return (self.__length*self.__length)\n",
    "    \n",
    "    @get_area.setter # setter method\n",
    "    def set_area(self,len):\n",
    "        self.__length = len\n",
    "        \n",
    "s1 = square(25)\n",
    "s1.set_area = 25\n",
    "s1.get_area\n"
   ]
  },
  {
   "cell_type": "markdown",
   "id": "cc2de801-dccd-465f-a103-051aea63bc60",
   "metadata": {},
   "source": [
    "### Q5. What is method overriding in python? Write a python code to demonstrate method overriding.\n",
    "* Method overriding in Python is to create two methods with the same name and same parameter in a superclass-subclass relationship."
   ]
  },
  {
   "cell_type": "code",
   "execution_count": null,
   "id": "fbfc4f57-5736-4ad7-823e-29d08ebf9d9f",
   "metadata": {},
   "outputs": [],
   "source": [
    "class teacher:\n",
    "    def print (self):\n",
    "        print(\"i am teacher\")\n",
    "        \n",
    "class student:\n",
    "    def print(self):\n",
    "        print(\"i am student\")\n",
    "        \n",
    "        \n",
    "t1 = t"
   ]
  }
 ],
 "metadata": {
  "kernelspec": {
   "display_name": "Python 3 (ipykernel)",
   "language": "python",
   "name": "python3"
  },
  "language_info": {
   "codemirror_mode": {
    "name": "ipython",
    "version": 3
   },
   "file_extension": ".py",
   "mimetype": "text/x-python",
   "name": "python",
   "nbconvert_exporter": "python",
   "pygments_lexer": "ipython3",
   "version": "3.10.8"
  }
 },
 "nbformat": 4,
 "nbformat_minor": 5
}
