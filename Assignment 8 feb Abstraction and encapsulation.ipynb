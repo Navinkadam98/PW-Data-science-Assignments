{
 "cells": [
  {
   "cell_type": "markdown",
   "id": "6e29cfd3-9eaf-4c0c-a59c-ffc98405ab14",
   "metadata": {},
   "source": [
    "### Q1. What is Abstraction in OOps? Explain with an example.\n",
    "\n",
    "* Abstraction is to provide function without revealing the implementation detail.\n",
    "* It is one of the 4 pillers of Object Oriented Programming concept.\n",
    "\n",
    "* It helps in reducing programming complexity and efforts.\n",
    "\n",
    "* Real life example:\n",
    "* Switching a fan on/off : Pressing a fan switch to on/off position provides the operation turn on/off the fan.\n",
    "      Here we know and use the function of the switch but we don't know how this function has been implemented or its internal working mechnism.\n",
    "* So, we can say the switch is providing the required abstraction."
   ]
  },
  {
   "cell_type": "markdown",
   "id": "dbd90e3b-8a84-4c37-b5a9-c990748a0a13",
   "metadata": {},
   "source": [
    "### Q2. Differentiate between Abstraction and Encapsulation. Explain with an example."
   ]
  },
  {
   "cell_type": "markdown",
   "id": "32ca938d-0359-4064-ab8c-1d4c52f662bb",
   "metadata": {},
   "source": [
    "### Abstraction:\n",
    "* OOPs concept that provides function without revealing the implemenation detail.\n",
    "* It is implemented to reduce code complexity.\n",
    "* Abstract classes and interfaces are used to achieve abstraction.\n",
    "* It solves the problem at design level.\n",
    "### Example:\n",
    "* Car's steering wheel : We use the funcion of a steering wheel in a car (i.e it steers the car in the direction we rotate the steering wheel) but we don't know the implemention detail.\n",
    "### Encapsulation:\n",
    "* OOPs concept that binds code and data in a single unit.\n",
    "* It is implemented for data protection.\n",
    "* Access specifiers are used to achive encapsulation.\n",
    "* It solves the problem at implementation level.\n",
    "### Example:\n",
    "* A Facebook profile: Anyone can see my password and log in to my Facebook account.\n",
    "  So, Facebook declares the password as private to make our account safe so that anyone can not log in to my account. So the other details of your account or post we share can be made public.\n",
    "  * So we can see the data hiding concept here."
   ]
  },
  {
   "cell_type": "code",
   "execution_count": null,
   "id": "43083fc5-f7b4-4e4d-8bc5-d76882924886",
   "metadata": {},
   "outputs": [],
   "source": []
  }
 ],
 "metadata": {
  "kernelspec": {
   "display_name": "Python 3 (ipykernel)",
   "language": "python",
   "name": "python3"
  },
  "language_info": {
   "codemirror_mode": {
    "name": "ipython",
    "version": 3
   },
   "file_extension": ".py",
   "mimetype": "text/x-python",
   "name": "python",
   "nbconvert_exporter": "python",
   "pygments_lexer": "ipython3",
   "version": "3.10.8"
  }
 },
 "nbformat": 4,
 "nbformat_minor": 5
}
