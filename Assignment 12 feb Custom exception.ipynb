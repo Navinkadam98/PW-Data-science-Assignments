{
 "cells": [
  {
   "cell_type": "markdown",
   "id": "474b9e16-8428-4ce4-9d68-9fcee9ee9a35",
   "metadata": {},
   "source": [
    "## Q1.What is Exception in python? Write the difference between Exceptions and syntax errors."
   ]
  },
  {
   "cell_type": "markdown",
   "id": "caa184f9-7440-4cc5-82bf-a705a8f9c7cc",
   "metadata": {},
   "source": [
    "## Ans"
   ]
  },
  {
   "cell_type": "markdown",
   "id": "5a986dee-4078-4e38-90f9-e23dbb574534",
   "metadata": {},
   "source": [
    "* Exceptions: Exceptions are raised when the program is syntactically correct, but the code resulted in an error. This error does not stop the execution of the program, however, it changes the normal flow of the program.\n",
    "* Syntax Error: As the name suggests this error is caused by the wrong syntax in the code. It leads to the termination of the program.\n",
    "* Syntax Error is an absolute error by the developer where as Exception can work in developer system but not in user system"
   ]
  },
  {
   "cell_type": "markdown",
   "id": "67fc0ba5-1666-4b1e-9056-7794512f56d5",
   "metadata": {},
   "source": [
    "## Q2.What happens when exception is not handeled? Explain with an example."
   ]
  },
  {
   "cell_type": "markdown",
   "id": "f2120d00-6288-423b-9949-d11b19d5a058",
   "metadata": {},
   "source": [
    "## Ans\n",
    "\n",
    "* If exception is not handelled then next code which is written in next line of python also will not run and entire file will be stopped"
   ]
  },
  {
   "cell_type": "code",
   "execution_count": 1,
   "id": "2d62d7a9-991a-4cd1-a1cd-bc25c261b43f",
   "metadata": {},
   "outputs": [
    {
     "ename": "ZeroDivisionError",
     "evalue": "division by zero",
     "output_type": "error",
     "traceback": [
      "\u001b[0;31m---------------------------------------------------------------------------\u001b[0m",
      "\u001b[0;31mZeroDivisionError\u001b[0m                         Traceback (most recent call last)",
      "Cell \u001b[0;32mIn[1], line 3\u001b[0m\n\u001b[1;32m      1\u001b[0m \u001b[38;5;66;03m# Example\u001b[39;00m\n\u001b[0;32m----> 3\u001b[0m a \u001b[38;5;241m=\u001b[39m \u001b[38;5;241;43m10\u001b[39;49m\u001b[38;5;241;43m/\u001b[39;49m\u001b[38;5;241;43m0\u001b[39;49m\n\u001b[1;32m      4\u001b[0m \u001b[38;5;28mprint\u001b[39m(a)\n",
      "\u001b[0;31mZeroDivisionError\u001b[0m: division by zero"
     ]
    }
   ],
   "source": [
    "# Example\n",
    "\n",
    "a = 10/0\n",
    "print(a)"
   ]
  },
  {
   "cell_type": "markdown",
   "id": "431e7201-e4ae-49ea-a3e3-c4be34c66b92",
   "metadata": {},
   "source": [
    "## Q3.Which python statements are used to catch and handle exception?Explain with an example."
   ]
  },
  {
   "cell_type": "markdown",
   "id": "cf0ef002-c778-4976-98a3-72193a8b86b1",
   "metadata": {},
   "source": [
    "## Ans"
   ]
  },
  {
   "cell_type": "markdown",
   "id": "fe29e7d2-a53b-42ab-ad20-6d667d7ec672",
   "metadata": {},
   "source": [
    "* The try and except block in Python is used to catch and handle exceptions."
   ]
  },
  {
   "cell_type": "code",
   "execution_count": 2,
   "id": "07a69f77-3bc5-4f49-85b6-bb090febf6a8",
   "metadata": {},
   "outputs": [
    {
     "name": "stdout",
     "output_type": "stream",
     "text": [
      "This is except block:: Division By Zero\n"
     ]
    }
   ],
   "source": [
    "#example\n",
    "\n",
    "#try for error\n",
    "try:\n",
    "    10/0\n",
    " #if such error comes send it to except\n",
    "except Exception as e:\n",
    "    \n",
    "    print(\"This is except block::\",str(e).title())\n",
    "    "
   ]
  },
  {
   "cell_type": "markdown",
   "id": "1f903e9e-4d38-48fb-ba94-bc7b2b284550",
   "metadata": {},
   "source": [
    "## Q4.Explain with an example:\n",
    "\n",
    "   a.try and else\n",
    "   \n",
    "   b.finally\n",
    "   \n",
    "   c.raise"
   ]
  },
  {
   "cell_type": "markdown",
   "id": "4ac914ff-2013-4dc3-bb27-7e7fd15f74da",
   "metadata": {},
   "source": [
    "## There are 4 blocks :\n",
    "## i. try\n",
    "\n",
    "try for error\n",
    "\n",
    "## ii. except\n",
    "\n",
    "if error comes it will come to except block\n",
    "\n",
    "## iii. else\n",
    "\n",
    "if try block executed without any error then else will be excuted for residual code, else will not excecuted if try fails\n",
    "\n",
    "## iv. finally\n",
    "\n",
    "it will be excuted at any situation\n",
    "\n",
    "Example are given below"
   ]
  },
  {
   "cell_type": "code",
   "execution_count": 3,
   "id": "fca592ed-d1d4-4ce9-9afd-34d88fb6630e",
   "metadata": {},
   "outputs": [
    {
     "name": "stdout",
     "output_type": "stream",
     "text": [
      "This is Except Block:::  division by zero\n"
     ]
    }
   ],
   "source": [
    "#a)try-except example\n",
    "try:# try for error \n",
    "    10/0\n",
    "except Exception as e: # if such error comes send it to except block\n",
    "    print(\"This is Except Block::: \", e)"
   ]
  },
  {
   "cell_type": "code",
   "execution_count": 4,
   "id": "9061e45c-2b96-454f-bc11-6a0bed5e44d3",
   "metadata": {},
   "outputs": [
    {
     "name": "stdout",
     "output_type": "stream",
     "text": [
      "[0]\n",
      "\n",
      "Eception Handeled\n"
     ]
    }
   ],
   "source": [
    "# b)else:\n",
    "\n",
    "try:\n",
    "    a=[]\n",
    "    for i in range(0,10):\n",
    "        if i<=0:\n",
    "            a.append(0)  # we have not printed the list a here \n",
    "            \n",
    "                        \n",
    "except Exception as e:\n",
    "    print (str(e).capitalize())\n",
    "else:\n",
    "    print(a)\n",
    "    print()\n",
    "    print('Eception Handeled')"
   ]
  },
  {
   "cell_type": "code",
   "execution_count": 6,
   "id": "182364aa-aae9-4b72-af08-14b0fc75835b",
   "metadata": {},
   "outputs": [
    {
     "name": "stdout",
     "output_type": "stream",
     "text": [
      "this is bug of :Division By Zero\n",
      "Error is not there\n"
     ]
    }
   ],
   "source": [
    "#c finally\n",
    "\n",
    "try:\n",
    "    b = []\n",
    "    for i in range(20):\n",
    "        b.append(1/i)\n",
    "    \n",
    "except Exception as e:\n",
    "    print(f\"this is bug of :{str(e).title()}\")\n",
    "    \n",
    "else:\n",
    "    print(b)\n",
    "    print(\"Exception is handled\")\n",
    "    \n",
    "finally:#it will executed at any situation\n",
    "    print(\"Error is not there\")"
   ]
  },
  {
   "cell_type": "markdown",
   "id": "65782048-b193-4a93-a114-fd2e951937bf",
   "metadata": {},
   "source": [
    "# Q.5 What are Custom exception in python? why do we need custom Exception?Explain with an example."
   ]
  },
  {
   "cell_type": "markdown",
   "id": "62ece12a-e85b-45b2-beff-b22a8e66471e",
   "metadata": {},
   "source": [
    "### Custome Exception Handeling\n",
    "* Some time we need to raise custome msg for exception when system does not have the exception msg or the exception itself\n",
    "### We need customised exception handelling because:\n",
    "* For those exception which system does not count as an exception we need to raise customized msg in this time we need customised exception handelling\n",
    "## Example:"
   ]
  },
  {
   "cell_type": "code",
   "execution_count": 22,
   "id": "bf9b3002-e1db-409a-8e64-3083cdf81a8d",
   "metadata": {},
   "outputs": [
    {
     "name": "stdin",
     "output_type": "stream",
     "text": [
      "Enter your age: 24\n"
     ]
    },
    {
     "name": "stdout",
     "output_type": "stream",
     "text": [
      "24\n"
     ]
    }
   ],
   "source": [
    "# according to python the value we entered is fine but age is not negative\n",
    "age = int (input(\"Enter your age:\"))\n",
    "\n",
    "print(age)\n",
    "\n",
    "# to handel this kind of exception we need to create a sub class of Exception"
   ]
  },
  {
   "cell_type": "markdown",
   "id": "ff0c7042-893c-4500-a19c-6bb4392039d0",
   "metadata": {},
   "source": [
    "## Q6.Create a custom exception class. Use this class to handle an exception."
   ]
  },
  {
   "cell_type": "code",
   "execution_count": 6,
   "id": "982ae85d-6fde-4386-8db5-76d91f42617e",
   "metadata": {},
   "outputs": [
    {
     "name": "stdin",
     "output_type": "stream",
     "text": [
      "ENTER YOUR AGE:::: -24\n"
     ]
    },
    {
     "name": "stdout",
     "output_type": "stream",
     "text": [
      "There is a Bug as::::: Age can't be Negative -24 \n"
     ]
    }
   ],
   "source": [
    "class Validateage(Exception): # the subclass where super class is Exception\n",
    "    def __init__(self, msg):  \n",
    "        self.msg=msg\n",
    "\n",
    "    \n",
    "    \n",
    "# make and function to raise error\n",
    "\n",
    "def validateage(age):\n",
    "    if age<0:\n",
    "        raise Validateage(f\"Age can't be Negative {age} \")\n",
    "    elif age>=200:\n",
    "        raise Validateage(f\"Age can't be too heigh  {age}\")\n",
    "    else:\n",
    "        print(f\"This is a Valid Age  {age}\")       \n",
    "        \n",
    "# Custome Exception Handelling\n",
    "\n",
    "try:\n",
    "    age= int(input(\"ENTER YOUR AGE::::\"))\n",
    "    validateage(age)\n",
    "\n",
    "except Validateage as v:\n",
    "    print(\"There is a Bug as:::::\", v)\n",
    "else:\n",
    "    print()\n",
    "    age1=age*2\n",
    "    print(f\"Your age  will be double to {age1} in next {age} years\")"
   ]
  },
  {
   "cell_type": "code",
   "execution_count": null,
   "id": "eed2566a-79d9-4ee9-b67b-f8b544025590",
   "metadata": {},
   "outputs": [],
   "source": []
  }
 ],
 "metadata": {
  "kernelspec": {
   "display_name": "Python 3 (ipykernel)",
   "language": "python",
   "name": "python3"
  },
  "language_info": {
   "codemirror_mode": {
    "name": "ipython",
    "version": 3
   },
   "file_extension": ".py",
   "mimetype": "text/x-python",
   "name": "python",
   "nbconvert_exporter": "python",
   "pygments_lexer": "ipython3",
   "version": "3.10.8"
  }
 },
 "nbformat": 4,
 "nbformat_minor": 5
}
