{
 "cells": [
  {
   "cell_type": "markdown",
   "id": "0b290210-8a5f-4ac6-a575-1f628f04cd2a",
   "metadata": {},
   "source": [
    "Q1. You are writing code for a company. The requirement of the company is that you create a python function that will check whether the password entered by the user is correct or not. The function should take the password as input and return the string \"Valid Password\" if the entered password follows the below-given password guidelines else it should return \"Invalid Password\".\n",
    "\n",
    "Note:\n",
    "\n",
    "1. The Password should contain at least two uppercase letters and at least two lowercase letters.\n",
    "\n",
    "2. The Password should contain at least a number and three special characters.\n",
    "\n",
    "3. The length of the password should be 10 characters long."
   ]
  },
  {
   "cell_type": "code",
   "execution_count": 5,
   "id": "7e5d3970-8b25-4f20-b48d-dcc6b44aa0c8",
   "metadata": {},
   "outputs": [
    {
     "name": "stdout",
     "output_type": "stream",
     "text": [
      "Invalid Password\n",
      "Invalid Password\n",
      "Valid Password\n",
      "Invalid Password\n"
     ]
    }
   ],
   "source": [
    "def chkpass(psd):\n",
    "    uc, uf, lc, lf, intc, intf, sc, sf = 0, 0, 0, 0, 0, 0, 0, 0\n",
    "\n",
    "    if (len(psd) == 10):\n",
    "        for i in range(len(psd)):\n",
    "            # print(ord(psd[i]))\n",
    "            if ((psd[i]) < chr(58) and psd[i] > chr(48)):\n",
    "                intc += 1\n",
    "                intf = 1\n",
    "                # print(i, \"int\", psd[i])\n",
    "            elif ((psd[i] < chr(48) and psd[i] > chr(32)) or (psd[i] < chr(65) and psd[i] > chr(57))):\n",
    "                sc += 1\n",
    "                if (sc == 3):\n",
    "                    sf = 1\n",
    "                # print(i, \"sp\", psd[i])\n",
    "            elif (psd[i] == psd[i].upper()):\n",
    "                uc += 1\n",
    "                if (uc == 2):\n",
    "                    uf = 1\n",
    "                # print(i, \"u\", psd[i])\n",
    "            elif (psd[i] == psd[i].lower()):\n",
    "                lc += 1\n",
    "                if (lc == 2):\n",
    "                    lf = 1\n",
    "                # print(i, \"l\", psd[i])\n",
    "    if (uf and lf and intf and sf):\n",
    "        print(\"Valid Password\")\n",
    "    else:\n",
    "        print(\"Invalid Password\")\n",
    "\n",
    "\n",
    "chkpass(\"Navin@!#4\")\n",
    "chkpass(\"InvalidPassword\")\n",
    "chkpass(\"Data!!1Sc#\")\n",
    "chkpass(\"Data!!1Scien#\")"
   ]
  },
  {
   "cell_type": "markdown",
   "id": "923624bc-b9d7-40f5-8eed-e57cb7c585fa",
   "metadata": {},
   "source": [
    "Q2. Solve the below-given questions using at least one of the following:\n",
    "\n",
    "1. Lambda function\n",
    "\n",
    "2. Filter function\n",
    "\n",
    "3. Map function\n",
    "\n",
    "4. List Comprehension\n",
    "\n",
    "* Check if the string starts with a particular letter.\n",
    "\n",
    "* Check if the string is numeric.\n",
    "\n",
    "* Sort a list of tuples having fruit names and their quantity.\n",
    "\n",
    "  [(\"mango\",99), (\"orange\", 80), (\"grapes\", 1000)]\n",
    "\n",
    "* Find the squares of numbers from 1 to 10.\n",
    "\n",
    "* Find the cube root of numbers from 1 to 10.\n",
    "\n",
    "* Check if a given number is even.\n",
    "\n",
    "* Filter odd numbers from the given list.\n",
    "\n",
    "  [1,2,3,4,5,6,7,8,9,10]\n",
    "\n",
    "* Sort a list of integers into positive and negative integers lists.\n",
    "\n",
    "  [1,2,3,4,5,6,-1,-2,-3,-4,-5,0]\n",
    "\n",
    "* Check if the string starts with a particular letter."
   ]
  },
  {
   "cell_type": "code",
   "execution_count": 6,
   "id": "acffe551-37b7-43e7-989d-84f82eb2914e",
   "metadata": {},
   "outputs": [
    {
     "name": "stdout",
     "output_type": "stream",
     "text": [
      "Valid String\n"
     ]
    }
   ],
   "source": [
    "n = \"Navin\"\n",
    "print(\"Valid String\") if n[0] ==\"N\" else print(\"Invalid String\")\n",
    "    "
   ]
  },
  {
   "cell_type": "markdown",
   "id": "364cfec0-f070-4a53-9335-9ad201b0fe43",
   "metadata": {},
   "source": [
    "* Check if the string is numeric."
   ]
  },
  {
   "cell_type": "code",
   "execution_count": 10,
   "id": "bd0f557e-d504-46f2-a0c3-14c0470ea12c",
   "metadata": {},
   "outputs": [
    {
     "name": "stdout",
     "output_type": "stream",
     "text": [
      "The string is not numeric\n",
      "The string is numeric\n"
     ]
    }
   ],
   "source": [
    "def isnum(n):\n",
    "    f = [1 if n.isnumeric() == 1 else 0]\n",
    "    if (f[0]):\n",
    "        print(\"The string is numeric\")\n",
    "        \n",
    "    else:\n",
    "        print(\"The string is not numeric\")\n",
    "        \n",
    "isnum(\"2Navin143\")\n",
    "isnum(\"6567567\")\n",
    "        "
   ]
  },
  {
   "cell_type": "markdown",
   "id": "3afc3652-891e-41f8-bea8-1b59ff3f0de5",
   "metadata": {},
   "source": [
    "* Sort a list of tuples having fruit names and their quantity. [(\"mango\",99), (\"orange\", 80), (\"grapes\", 1000)]"
   ]
  },
  {
   "cell_type": "code",
   "execution_count": 11,
   "id": "6dfda2d4-003a-46d7-9577-3eeab2b854bf",
   "metadata": {},
   "outputs": [
    {
     "name": "stdout",
     "output_type": "stream",
     "text": [
      "[('orange', 80), ('mango', 99), ('grapes', 1000)]\n"
     ]
    }
   ],
   "source": [
    "l = [(\"mango\",99),(\"orange\",80),(\"grapes\",1000)]\n",
    "l.sort(key=lambda x : x[1])\n",
    "print(l)"
   ]
  },
  {
   "cell_type": "markdown",
   "id": "b5126c1c-6ae6-4409-9a3f-9c32bc891ad2",
   "metadata": {},
   "source": [
    "* Find the squares of numbers from 1 to 10."
   ]
  },
  {
   "cell_type": "code",
   "execution_count": 26,
   "id": "2bb708ba-04c7-47a1-88b6-0f5d9246371a",
   "metadata": {},
   "outputs": [
    {
     "data": {
      "text/plain": [
       "[1, 4, 9, 16, 25, 36, 49, 64, 81, 100]"
      ]
     },
     "execution_count": 26,
     "metadata": {},
     "output_type": "execute_result"
    }
   ],
   "source": [
    "l =list(range(1,11))\n",
    "\n",
    "square =map(lambda l : l**2,l)\n",
    "\n",
    "list(square)"
   ]
  },
  {
   "cell_type": "markdown",
   "id": "88d4b2fb-6bfb-40c8-a21a-d6182fb64cd5",
   "metadata": {},
   "source": [
    "* Find the cube root of numbers from 1 to 10."
   ]
  },
  {
   "cell_type": "code",
   "execution_count": null,
   "id": "27573320-b7fe-48d6-8ad1-5cd1899f737b",
   "metadata": {},
   "outputs": [],
   "source": [
    "l = list(range(1,11))\n",
    "\n",
    "cube_root = map(lambda l : l**(1/3),l)\n",
    "\n",
    "list(cube_root)"
   ]
  },
  {
   "cell_type": "markdown",
   "id": "b0ff5c1e-14af-4561-95dc-a6ec07ad3f81",
   "metadata": {},
   "source": [
    "* Check if a given number is even."
   ]
  },
  {
   "cell_type": "code",
   "execution_count": 28,
   "id": "745f8e22-dda7-44cf-a6b1-088bc3fe8d8f",
   "metadata": {},
   "outputs": [
    {
     "name": "stdin",
     "output_type": "stream",
     "text": [
      "Enter any number 44\n"
     ]
    },
    {
     "name": "stdout",
     "output_type": "stream",
     "text": [
      "Even\n"
     ]
    }
   ],
   "source": [
    "num = int(input(\"Enter any number\"))\n",
    "f = print(\"Even\") if num % 2 == 0 else print(\"Odd\")"
   ]
  },
  {
   "cell_type": "markdown",
   "id": "160ae2b1-0cd8-49bc-a1c6-b184ab52f7c6",
   "metadata": {},
   "source": [
    "* Filter odd numbers from the given list.\n",
    "\n",
    "  [1,2,3,4,5,6,7,8,9,10]"
   ]
  },
  {
   "cell_type": "code",
   "execution_count": 30,
   "id": "92f6722a-2756-4e82-8bcd-7996c73fa821",
   "metadata": {},
   "outputs": [
    {
     "name": "stdout",
     "output_type": "stream",
     "text": [
      "the odd numbers are"
     ]
    },
    {
     "data": {
      "text/plain": [
       "[1, 3, 5, 7, 9]"
      ]
     },
     "execution_count": 30,
     "metadata": {},
     "output_type": "execute_result"
    }
   ],
   "source": [
    "l = [1,2,3,4,5,6,7,8,9,10]\n",
    "print (\"the odd numbers are\",end =\"\")\n",
    "list(filter((lambda x : x % 2 != 0) ,l))"
   ]
  },
  {
   "cell_type": "markdown",
   "id": "506895e0-e1f8-43fe-8b72-2e37dbd3f7f2",
   "metadata": {},
   "source": [
    "* Sort a list of integers into positive and negative integers lists.\n",
    "\n",
    "  [1,2,3,4,5,6,-1,-2,-3,-4,-5,0]"
   ]
  },
  {
   "cell_type": "code",
   "execution_count": 31,
   "id": "38a59b8e-5ca5-4511-99f0-e81bbdac26cf",
   "metadata": {},
   "outputs": [
    {
     "name": "stdout",
     "output_type": "stream",
     "text": [
      "[0, 1, 2, 3, 4, 5, 6]\n",
      "[-5, -4, -3, -2, -1]\n"
     ]
    }
   ],
   "source": [
    "l = [1, 2, 3, 4, 5, 6, -1, -2, -3, -4, -5, 0]\n",
    "\n",
    "p = list(filter(lambda x : x > -1 ,l))\n",
    "n = list(filter(lambda x : x < 0 , l))\n",
    "\n",
    "p.sort()\n",
    "n.sort()\n",
    "print(p)\n",
    "print(n)"
   ]
  },
  {
   "cell_type": "code",
   "execution_count": null,
   "id": "ae037a90-7131-404e-b4c3-029beaf4121f",
   "metadata": {},
   "outputs": [],
   "source": []
  }
 ],
 "metadata": {
  "kernelspec": {
   "display_name": "Python 3 (ipykernel)",
   "language": "python",
   "name": "python3"
  },
  "language_info": {
   "codemirror_mode": {
    "name": "ipython",
    "version": 3
   },
   "file_extension": ".py",
   "mimetype": "text/x-python",
   "name": "python",
   "nbconvert_exporter": "python",
   "pygments_lexer": "ipython3",
   "version": "3.10.8"
  }
 },
 "nbformat": 4,
 "nbformat_minor": 5
}
