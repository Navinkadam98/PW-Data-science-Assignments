{
 "cells": [
  {
   "cell_type": "markdown",
   "id": "6b74a766-806c-4ff8-82bc-2cf51622c396",
   "metadata": {},
   "source": [
    "1. Explain with example when to use for loop and while loop"
   ]
  },
  {
   "cell_type": "code",
   "execution_count": 5,
   "id": "e73731df-4fc7-4c3d-85a9-67b9ad3c6d17",
   "metadata": {},
   "outputs": [
    {
     "name": "stdout",
     "output_type": "stream",
     "text": [
      "0 1 2 3 4 5 6 7 8 9 10 11 12 13 14 15 "
     ]
    }
   ],
   "source": [
    "# For loop:\n",
    "## When we know how many itration need to be done\n",
    "\n",
    "#print 1 to 15 \n",
    "\n",
    "for i in range (0,16):\n",
    "    print(i,end =\" \")\n",
    "    "
   ]
  },
  {
   "cell_type": "code",
   "execution_count": 6,
   "id": "292260bf-5ffc-4ac1-82bb-db5d4a35a291",
   "metadata": {},
   "outputs": [
    {
     "name": "stdin",
     "output_type": "stream",
     "text": [
      "Do you want to play y/n ? y\n",
      "Type n if you want to close the game n\n"
     ]
    }
   ],
   "source": [
    "# While loop\n",
    "\n",
    "# When we don't know how many times we need to do the iteartion\n",
    "\n",
    "# take the input\n",
    "\n",
    "a = input (\"Do you want to play y/n ?\")\n",
    "\n",
    "# make the condition \n",
    "\n",
    "while a! = \"n\": \n",
    "    a = input(\"Type n if you want to close the game\")\n",
    "    while a == \"n\":\n",
    "        break\n",
    "    else:\n",
    "        print(\"welcome to while loop\")\n",
    "\n",
    "\n"
   ]
  },
  {
   "cell_type": "markdown",
   "id": "e8b87ec8-23f9-40c8-a7a6-b65541152a3a",
   "metadata": {},
   "source": [
    "Q2. Get sum of first 10 natural numbers using while and for loops"
   ]
  },
  {
   "cell_type": "code",
   "execution_count": 16,
   "id": "981f7bf1-2a38-4ea8-861b-c1e8421f33be",
   "metadata": {},
   "outputs": [
    {
     "name": "stdout",
     "output_type": "stream",
     "text": [
      "The sum of first 10 natural number is  55\n",
      "The product of first 10 natural number is  3628800\n"
     ]
    }
   ],
   "source": [
    "sum = 0\n",
    "prod = 1\n",
    "for i in range (1,11):\n",
    "    sum += i\n",
    "    prod *= i\n",
    "print (\"The sum of first 10 natural number is \",sum)\n",
    "print(\"The product of first 10 natural number is \",prod)"
   ]
  },
  {
   "cell_type": "markdown",
   "id": "5e232608-6735-4c25-bc7b-1f281bca4121",
   "metadata": {},
   "source": [
    " Q3.Create a python program to compute the electricity bill for a household.\n",
    "The per-unit charges in rupees are as follows: For the first 100 units, the user will be charged Rs. 4.5 per unit, for the next 100 units, the user will be charged Rs. 6 per unit, and for the next 100 units, the user will be charged Rs. 10 per unit, After 300 units and above the user will be charged Rs. 20 per unit.\n",
    "You are required to take the units of electricity consumed in a month from the user as input.\n",
    "Your program must pass this test case: when the unit of electricity consumed by the user in a month is 310, the total electricity bill should be 2250."
   ]
  },
  {
   "cell_type": "code",
   "execution_count": 28,
   "id": "fb708b76-2699-4ca1-bc35-be3275dd5c9e",
   "metadata": {},
   "outputs": [
    {
     "name": "stdin",
     "output_type": "stream",
     "text": [
      "Enter the no of units of electricity used 310\n"
     ]
    },
    {
     "name": "stdout",
     "output_type": "stream",
     "text": [
      "The bill is Rs 2250\n"
     ]
    }
   ],
   "source": [
    "units = int(input(\"Enter the no of units of electricity used\"))\n",
    "bill = 0\n",
    "if (units <= 100):\n",
    "    bill += units * 4.5\n",
    "    units -= 100\n",
    "if (units > 100 and units <= 200):\n",
    "    bill += 450\n",
    "    units -= 100\n",
    "    bill += units * 6\n",
    "if (units > 200 and units <=300):\n",
    "    bill += 450 + 600\n",
    "    units -=200\n",
    "    bill += units * 10\n",
    "if (units > 300):\n",
    "    bill += 450 + 600 + 1000\n",
    "    units -= 300\n",
    "    bill += units * 20\n",
    "    print (f\"The bill is Rs {bill}\")\n",
    "            \n",
    "            "
   ]
  },
  {
   "cell_type": "markdown",
   "id": "74b58b44-bb20-4f45-87b9-74a988d3eab5",
   "metadata": {},
   "source": [
    "Q4. Create a list of numbers from 1 to 100. Use for loop and while loop to calculate cube of each number and if the cube of that number is divisible by 4 or 5 then append that number in a list and print that list.\n"
   ]
  },
  {
   "cell_type": "code",
   "execution_count": 44,
   "id": "c7cb6891-89e1-4874-812b-bb6131a45e7e",
   "metadata": {},
   "outputs": [
    {
     "name": "stdout",
     "output_type": "stream",
     "text": [
      "Using for loop \n",
      "[2, 4, 5, 6, 8, 10, 12, 14, 15, 16, 18, 20, 22, 24, 25, 26, 28, 30, 32, 34, 35, 36, 38, 40, 42, 44, 45, 46, 48, 50, 52, 54, 55, 56, 58, 60, 62, 64, 65, 66, 68, 70, 72, 74, 75, 76, 78, 80, 82, 84, 85, 86, 88, 90, 92, 94, 95, 96, 98, 100]\n",
      "Using while loop \n",
      "[2, 4, 5, 6, 8, 10, 12, 14, 15, 16, 18, 20, 22, 24, 25, 26, 28, 30, 32, 34, 35, 36, 38, 40, 42, 44, 45, 46, 48, 50, 52, 54, 55, 56, 58, 60, 62, 64, 65, 66, 68, 70, 72, 74, 75, 76, 78, 80, 82, 84, 85, 86, 88, 90, 92, 94, 95, 96, 98, 100]\n"
     ]
    }
   ],
   "source": [
    "l1 = list(range(1, 101))\n",
    "\n",
    "# Using for loop\n",
    "lf = []\n",
    "for i in l1:\n",
    "    c = i**2\n",
    "    r1 = c % 10\n",
    "    r2 = c % 100\n",
    "    r2 %= 4\n",
    "    if ((r1) == 0 or (r1) == 5 or (r2) == 0):\n",
    "        lf.append(i)\n",
    "\n",
    "print(f\"Using for loop \\n{lf}\")\n",
    "\n",
    "\n",
    "# Using while loop\n",
    "lw = []\n",
    "l = 1\n",
    "while (l <= len(l1)):\n",
    "    c = l**2\n",
    "    r1 = c % 10\n",
    "    r2 = c % 100\n",
    "    r2 %= 4\n",
    "    if ((r1) == 0 or (r1) == 5 or (r2) == 0):\n",
    "        lw.append(l)\n",
    "    l += 1\n",
    "\n",
    "print(f\"Using while loop \\n{lw}\")"
   ]
  },
  {
   "cell_type": "markdown",
   "id": "d471fe32-ddd4-45a0-87f5-e3461338245f",
   "metadata": {},
   "source": [
    "Q5. Write a program to filter count vowels in the below-given string. string = \"I want to become a data scientist\""
   ]
  },
  {
   "cell_type": "code",
   "execution_count": 45,
   "id": "a3e227af-e232-4da8-804a-268f4260bd72",
   "metadata": {},
   "outputs": [
    {
     "ename": "SyntaxError",
     "evalue": "invalid syntax (517759799.py, line 12)",
     "output_type": "error",
     "traceback": [
      "\u001b[0;36m  Cell \u001b[0;32mIn[45], line 12\u001b[0;36m\u001b[0m\n\u001b[0;31m    No of vowels in the string is : 12 and the vowels are {'e', 'o', 'i', 'I', 'a'}\u001b[0m\n\u001b[0m       ^\u001b[0m\n\u001b[0;31mSyntaxError\u001b[0m\u001b[0;31m:\u001b[0m invalid syntax\n"
     ]
    }
   ],
   "source": [
    "s = \"I want to become a data scientist\"\n",
    "count = 0\n",
    "v = []\n",
    "\n",
    "for i in s:\n",
    "    if (i == 'a' or i == 'e' or i == 'i' or i == 'o' or i == 'u' or i == 'A' or i == 'E' or i == 'I' or i == 'O' or i == 'U'):\n",
    "        count += 1\n",
    "        v.append(i)\n",
    "\n",
    "v.sort()  # Just for better readability\n",
    "print(f\"No of vowels in the string is : {count} and the vowels are {set(v)}\")\n",
    "No of vowels in the string is : 12 and the vowels are {'e', 'o', 'i', 'I', 'a'}"
   ]
  },
  {
   "cell_type": "code",
   "execution_count": null,
   "id": "dca93624-5fa0-4d95-b161-7f34add54ff3",
   "metadata": {},
   "outputs": [],
   "source": []
  }
 ],
 "metadata": {
  "kernelspec": {
   "display_name": "Python 3 (ipykernel)",
   "language": "python",
   "name": "python3"
  },
  "language_info": {
   "codemirror_mode": {
    "name": "ipython",
    "version": 3
   },
   "file_extension": ".py",
   "mimetype": "text/x-python",
   "name": "python",
   "nbconvert_exporter": "python",
   "pygments_lexer": "ipython3",
   "version": "3.10.8"
  }
 },
 "nbformat": 4,
 "nbformat_minor": 5
}
