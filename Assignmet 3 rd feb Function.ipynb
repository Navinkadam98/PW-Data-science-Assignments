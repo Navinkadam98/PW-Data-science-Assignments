{
 "cells": [
  {
   "cell_type": "markdown",
   "id": "7c680cc6-3b3c-4527-88b7-ff562aa3ede2",
   "metadata": {},
   "source": [
    "Q1. Which keyword is used to create a function? Create a function to return a list of odd numbers in the range of 1 to 25."
   ]
  },
  {
   "cell_type": "code",
   "execution_count": 6,
   "id": "70de2e6e-417a-4876-bb06-d2a376aacede",
   "metadata": {},
   "outputs": [
    {
     "data": {
      "text/plain": [
       "[1, 3, 5, 7, 9, 11, 13, 15, 17, 19, 21, 23, 25]"
      ]
     },
     "execution_count": 6,
     "metadata": {},
     "output_type": "execute_result"
    }
   ],
   "source": [
    "#Ans:To create a function we need to use def keyword\n",
    "\n",
    "l1=[range(1,26)]\n",
    "\n",
    "def odd_num(l1):\n",
    "    l2 =[i for i in range(1,26) if i %2 !=0]\n",
    "    return l2\n",
    "odd_num(l1)"
   ]
  },
  {
   "cell_type": "markdown",
   "id": "4094e3e5-35c4-4e05-95cb-5baa9252f7c9",
   "metadata": {},
   "source": [
    "Q2. Why args and kwargs is used in some functions? Create a function each for *args and kwargs to demonstrate their use."
   ]
  },
  {
   "cell_type": "markdown",
   "id": "603a8f2b-862e-493d-97b2-02d847884bcc",
   "metadata": {},
   "source": [
    "*args:\n",
    "\n",
    "a. when we need n number of argumnts to be given by user we can use single *args\n",
    "\n",
    "b. In this case we will get data stored in tuple form"
   ]
  },
  {
   "cell_type": "code",
   "execution_count": 14,
   "id": "3fc3d23e-f74f-4700-9f87-3f1f78d33d19",
   "metadata": {},
   "outputs": [
    {
     "name": "stdout",
     "output_type": "stream",
     "text": [
      "([1, 2, 3, 4],)\n",
      "(2, 4, 56, 78)\n"
     ]
    },
    {
     "data": {
      "text/plain": [
       "tuple"
      ]
     },
     "execution_count": 14,
     "metadata": {},
     "output_type": "execute_result"
    }
   ],
   "source": [
    "# example-1\n",
    "\n",
    "def test(*args):\n",
    "    return args\n",
    "print(test(list([1,2,3,4])))\n",
    "print(test(2,4,56,78))\n",
    "type(test())"
   ]
  },
  {
   "cell_type": "code",
   "execution_count": 17,
   "id": "e8f52d7d-ee9a-4cc5-b0d1-06646ea8c7a5",
   "metadata": {},
   "outputs": [
    {
     "name": "stdout",
     "output_type": "stream",
     "text": [
      "((1, 23, 4, 5, 55), 10)\n"
     ]
    }
   ],
   "source": [
    "# example-2\n",
    "\n",
    "def test1(*args,a):\n",
    "    return args,a\n",
    "\n",
    "print(test1(1,23,4,5,55,a=10))"
   ]
  },
  {
   "cell_type": "markdown",
   "id": "5493d1c6-189b-4570-a23a-e7a12986d631",
   "metadata": {},
   "source": [
    "**kwargs\n",
    "\n",
    "a. When we need multiple argumnets from user to be stored in key-value pair in dict form **kwargs can be used\n",
    "\n",
    "b. It returns dict type data\n"
   ]
  },
  {
   "cell_type": "code",
   "execution_count": 19,
   "id": "6ae8a557-e6e4-4093-8923-dd4297e80b72",
   "metadata": {},
   "outputs": [
    {
     "name": "stdout",
     "output_type": "stream",
     "text": [
      "{'x': (2, 4, 5), 'y': [11, 3, 45, 5, 6], 'z': 'data science'}\n"
     ]
    },
    {
     "data": {
      "text/plain": [
       "dict"
      ]
     },
     "execution_count": 19,
     "metadata": {},
     "output_type": "execute_result"
    }
   ],
   "source": [
    "# example\n",
    "\n",
    "def test2(**kwargs):\n",
    "    return kwargs\n",
    "print(test2(x=(2,4,5,),y=[11,3,45,5,6],z=\"data science\"))\n",
    "type (test2())"
   ]
  },
  {
   "cell_type": "markdown",
   "id": "cb3f331f-ff5d-4a62-a23c-13898f2526af",
   "metadata": {},
   "source": [
    "Q3. What is an iterator in python? Name the method used to initialise the iterator object and the method used for iteration. Use these methods to print the first five elements of the given list [2, 4, 6, 8, 10, 12, 14,16, 18, 20]."
   ]
  },
  {
   "cell_type": "markdown",
   "id": "ae665c47-5c37-48cd-bbf0-21e1b82831aa",
   "metadata": {},
   "source": [
    "Ans"
   ]
  },
  {
   "cell_type": "markdown",
   "id": "5c8c2304-8208-4344-ae3a-e92120f7822e",
   "metadata": {},
   "source": [
    "An iterator is a key word in python which goes to each items or element of an assinged data structure like list, tuple, set, dictonary one by one and push for specefic function of one or multiple manupulation through code it has been created for.\n",
    "The iterator object is initialized using the iter() method. It uses the next() method for iteration."
   ]
  },
  {
   "cell_type": "code",
   "execution_count": 33,
   "id": "ba1eb16a-0d03-425b-b8e2-0b68ee928cb1",
   "metadata": {},
   "outputs": [
    {
     "name": "stdout",
     "output_type": "stream",
     "text": [
      "2\n",
      "4\n",
      "6\n",
      "8\n",
      "10\n"
     ]
    }
   ],
   "source": [
    "l =[2,4,6,8,10,12,14,16,18,20]\n",
    "\n",
    "nx = iter (l)\n",
    "\n",
    "print((next(nx)))\n",
    "print((next(nx)))\n",
    "print((next(nx)))\n",
    "print((next(nx)))\n",
    "print((next(nx)))"
   ]
  },
  {
   "cell_type": "markdown",
   "id": "df30657f-d579-495e-9d9e-acefef154e7e",
   "metadata": {},
   "source": [
    "Q4. What is a generator function in python? Why yield keyword is used? Give an example of a generator function."
   ]
  },
  {
   "cell_type": "markdown",
   "id": "9613ead7-3d32-445b-acf0-bef75404bc7a",
   "metadata": {},
   "source": [
    "Ans"
   ]
  },
  {
   "cell_type": "markdown",
   "id": "dc2f0744-0882-4769-9713-08017636b53d",
   "metadata": {},
   "source": [
    "Generator function in Python is a function that is commonly used to return a sequence of values. Generator function behaves like a normal function but rather it uses a yield statement to return a value instead of return statement. If the body of a function contains yield statement, the function automatically becomes a generator function."
   ]
  },
  {
   "cell_type": "code",
   "execution_count": 41,
   "id": "516218d0-d9be-426c-8fe2-5f04dbc36be5",
   "metadata": {},
   "outputs": [
    {
     "name": "stdout",
     "output_type": "stream",
     "text": [
      "0\n",
      "1\n",
      "2\n",
      "3\n",
      "4\n",
      "[5, 6, 7, 8, 9, 10]\n"
     ]
    }
   ],
   "source": [
    "def count_y(n):\n",
    "    for i in range(0,n+1):\n",
    "        yield i\n",
    "        \n",
    "gen_obj = count_y(10)\n",
    "print(next(gen_obj))\n",
    "print(next(gen_obj))\n",
    "print(next(gen_obj))\n",
    "print(next(gen_obj))\n",
    "print(next(gen_obj))\n",
    "\n",
    "print(list(gen_obj))"
   ]
  },
  {
   "cell_type": "markdown",
   "id": "7d8909a4-b07a-4c47-a9df-f3b16ad1c74e",
   "metadata": {},
   "source": [
    "Q5. Create a generator function for prime numbers less than 1000. Use the next() method to print the first 20 prime numbers.\n"
   ]
  },
  {
   "cell_type": "code",
   "execution_count": 51,
   "id": "20f66d65-488d-4d93-a8e0-ff135bd6055c",
   "metadata": {},
   "outputs": [
    {
     "name": "stdout",
     "output_type": "stream",
     "text": [
      "2\n",
      "3\n",
      "5\n",
      "7\n",
      "11\n",
      "13\n",
      "17\n",
      "19\n",
      "23\n",
      "29\n",
      "31\n",
      "37\n",
      "41\n",
      "43\n",
      "47\n",
      "53\n",
      "59\n",
      "61\n",
      "67\n",
      "71\n"
     ]
    }
   ],
   "source": [
    "n=1000\n",
    "def get_prime(n):\n",
    "    for x in range(2,n):\n",
    "        for y in range(2,x):\n",
    "            if x%y==0:\n",
    "                break\n",
    "        else:\n",
    "            yield x\n",
    "m= get_prime(1000)\n",
    "            \n",
    "print(next(m))\n",
    "print(next(m))\n",
    "print(next(m))\n",
    "print(next(m))\n",
    "print(next(m))\n",
    "print(next(m))\n",
    "print(next(m))\n",
    "print(next(m))\n",
    "print(next(m))\n",
    "print(next(m))\n",
    "print(next(m))\n",
    "print(next(m))\n",
    "print(next(m))\n",
    "print(next(m))\n",
    "print(next(m))\n",
    "print(next(m))\n",
    "print(next(m))\n",
    "print(next(m))\n",
    "print(next(m))\n",
    "print(next(m))"
   ]
  },
  {
   "cell_type": "markdown",
   "id": "b219d440-b81f-40f5-9946-5eda17278f86",
   "metadata": {},
   "source": [
    "Q7. Write a List Comprehension to iterate through the given string: ‘pwskills’. Expected output: ['p', 'w', 's', 'k', 'i', 'l', 'l', 's']"
   ]
  },
  {
   "cell_type": "code",
   "execution_count": 53,
   "id": "8dab2968-513b-468b-949e-982fc145237c",
   "metadata": {},
   "outputs": [
    {
     "data": {
      "text/plain": [
       "['p', 'w', 's', 'k', 'i', 'l', 'l', 's']"
      ]
     },
     "execution_count": 53,
     "metadata": {},
     "output_type": "execute_result"
    }
   ],
   "source": [
    "list =\"pwskills\"\n",
    "\n",
    "[i for i in list ]\n"
   ]
  },
  {
   "cell_type": "markdown",
   "id": "16ea4a0e-d0a8-470f-b22b-97d39267875a",
   "metadata": {},
   "source": [
    "Q8. Write a python program to check whether a given number is Palindrome or not using a while loop."
   ]
  },
  {
   "cell_type": "code",
   "execution_count": 56,
   "id": "42339b23-b95b-48a3-ae24-b35f1b87e6f1",
   "metadata": {},
   "outputs": [
    {
     "name": "stdin",
     "output_type": "stream",
     "text": [
      "Enter a number:  123321\n"
     ]
    },
    {
     "name": "stdout",
     "output_type": "stream",
     "text": [
      "The number is a palindrome\n"
     ]
    }
   ],
   "source": [
    "num = int(input(\"Enter a number: \"))\n",
    "\n",
    "original_num = num\n",
    "reverse_num = 0\n",
    "\n",
    "while num > 0:\n",
    "    remainder = num % 10\n",
    "    reverse_num = (reverse_num * 10) + remainder\n",
    "    num = num // 10\n",
    "\n",
    "if original_num == reverse_num:\n",
    "    print(\"The number is a palindrome\")\n",
    "else:\n",
    "    print(\"The number is not a palindrome\")\n"
   ]
  },
  {
   "cell_type": "code",
   "execution_count": 57,
   "id": "2a2e2b54-10c1-4639-bdc1-64a409fddf9a",
   "metadata": {},
   "outputs": [
    {
     "name": "stdin",
     "output_type": "stream",
     "text": [
      "Enter a number:  112\n"
     ]
    },
    {
     "name": "stdout",
     "output_type": "stream",
     "text": [
      "The number is not a palindrome\n"
     ]
    }
   ],
   "source": [
    "num = int(input(\"Enter a number: \"))\n",
    "\n",
    "original_num = num\n",
    "reverse_num = 0\n",
    "\n",
    "while num > 0:\n",
    "    remainder = num % 10\n",
    "    reverse_num = (reverse_num * 10) + remainder\n",
    "    num = num // 10\n",
    "\n",
    "if original_num == reverse_num:\n",
    "    print(\"The number is a palindrome\")\n",
    "else:\n",
    "    print(\"The number is not a palindrome\")"
   ]
  },
  {
   "cell_type": "markdown",
   "id": "ebd34649-2ec6-4b76-a4ab-1d441f339712",
   "metadata": {},
   "source": [
    "Q9. Write a code to print odd numbers from 1 to 100 using list comprehension."
   ]
  },
  {
   "cell_type": "code",
   "execution_count": 69,
   "id": "03e8f49e-761e-4906-a3f3-74fd4786e70c",
   "metadata": {},
   "outputs": [
    {
     "name": "stdout",
     "output_type": "stream",
     "text": [
      "[1, 3, 5, 7, 9, 11, 13, 15, 17, 19, 21, 23, 25, 27, 29, 31, 33, 35, 37, 39, 41, 43, 45, 47, 49, 51, 53, 55, 57, 59, 61, 63, 65, 67, 69, 71, 73, 75, 77, 79, 81, 83, 85, 87, 89, 91, 93, 95, 97, 99]\n"
     ]
    }
   ],
   "source": [
    "l =[ i for i in range(1,101)]\n",
    "l1 = [j for j in l if j%2!=0]\n",
    "print(l1)\n"
   ]
  },
  {
   "cell_type": "code",
   "execution_count": null,
   "id": "8aa8809d-c608-48dd-aac7-53eaa235e53b",
   "metadata": {},
   "outputs": [],
   "source": []
  }
 ],
 "metadata": {
  "kernelspec": {
   "display_name": "Python 3 (ipykernel)",
   "language": "python",
   "name": "python3"
  },
  "language_info": {
   "codemirror_mode": {
    "name": "ipython",
    "version": 3
   },
   "file_extension": ".py",
   "mimetype": "text/x-python",
   "name": "python",
   "nbconvert_exporter": "python",
   "pygments_lexer": "ipython3",
   "version": "3.10.8"
  }
 },
 "nbformat": 4,
 "nbformat_minor": 5
}
